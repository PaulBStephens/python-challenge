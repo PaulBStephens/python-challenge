{
 "cells": [
  {
   "cell_type": "code",
   "execution_count": 3,
   "metadata": {},
   "outputs": [
    {
     "name": "stdout",
     "output_type": "stream",
     "text": [
      "Election Results\n",
      "-----------------------------------\n",
      "Total Votes: 3521001\n",
      "-----------------------------------\n",
      "Khan: 28.40% 1000000\n",
      "Correy: 17.04% 600000\n",
      "Li: 11.36% 400000\n",
      "O'Tooley: 42.60% 1500000\n"
     ]
    }
   ],
   "source": [
    "# Create dependencies\n",
    "import csv \n",
    "\n",
    "# file to load\n",
    "file_to_load = \"election_data.csv\"\n",
    "\n",
    "# total_Khan_votes = 0\n",
    "# total_Correy_votes = 0\n",
    "# total_Li_votes = 0\n",
    "# total_OTooley_Votes = 0\n",
    "\n",
    "# Read the csv and convert info into lists; first column (index 0) is \"Voter ID\", second column (index 1) is \"County\", third column (index 2) is \"Candidate\"\n",
    "with open(file_to_load) as election_data:\n",
    "    reader = csv.reader(election_data)\n",
    "    \n",
    "    # I used the 'next' function to skip first title row in csv file\n",
    "    # I reserved a spot for county data in case I need it, but at present I don't think I do.  \n",
    "    next(reader) \n",
    "    voter_ID = []\n",
    "    county = []\n",
    "    candidate = []\n",
    "\n",
    "    for row in reader:\n",
    "        voter_ID.append(row[0])\n",
    "        candidate.append(row[2])\n",
    "        \n",
    "        \n",
    "# Got: The total number of votes cast\n",
    "# Need: A complete list of candidates who received votes (and also the total number and percent for each candidate)\n",
    "# Need: The winner of the election based on popular vote. \n",
    "\n",
    "#     unique_candidates = []\n",
    "#     Khan_votes = []\n",
    "#     Correy_votes = []\n",
    "#     Li_votes = []\n",
    "#     OTooley_votes = []\n",
    "\n",
    "\n",
    "# printing info\n",
    "    print(\"Election Results\")\n",
    "    print(\"-----------------------------------\")\n",
    "    print(\"Total Votes:\", len(voter_ID))\n",
    "    print(\"-----------------------------------\")    \n",
    "\n",
    "\n",
    "\n",
    "# Below is fake data, just to see if I can print something with the correct format    \n",
    "total_Khan_votes = 1000000\n",
    "total_Correy_votes = 600000\n",
    "total_Li_votes = 400000\n",
    "total_OTooley_Votes = 1500000\n",
    "    \n",
    "percent_Khan_votes = '{0:.2f}'.format(total_Khan_votes / len(voter_ID) * 100)\n",
    "percent_Correy_votes = '{0:.2f}'.format(total_Correy_votes / len(voter_ID) * 100)\n",
    "percent_Li_votes = '{0:.2f}'.format(total_Li_votes / len(voter_ID) * 100)\n",
    "percent_OTooley_votes = '{0:.2f}'.format(total_OTooley_Votes / len(voter_ID) * 100)\n",
    "\n",
    "print(f\"Khan: {percent_Khan_votes}% {total_Khan_votes}\")\n",
    "print(f\"Correy: {percent_Correy_votes}% {total_Correy_votes}\") \n",
    "print(f\"Li: {percent_Li_votes}% {total_Li_votes}\")\n",
    "print(f\"O'Tooley: {percent_OTooley_votes}% {total_OTooley_Votes}\")\n",
    "    \n",
    "    \n",
    "# # now need to export the same info I printed to a text file\n",
    "# # this is similar to what was done in PyBank:\n",
    "# with open(\"output_PyPoll.txt\", \"a\") as f:\n",
    "#     print(\"Election Results\", file=f)\n",
    "#     print(\"-----------------------------------\", file=f)\n",
    "#     print(\"Total Votes:\", len(voter_ID), file=f)\n",
    "#     print(\"-----------------------------------\", file=f)    \n",
    "\n",
    "#     print(f\"Khan: {percent_Khan_votes}% {total_Khan_votes}\", file=f)\n",
    "#     print(f\"Correy: {percent_Correy_votes}% {total_Correy_votes}\", file=f) \n",
    "#     print(f\"Li: {percent_Li_votes}% {total_Li_votes}\", file=f)\n",
    "#     print(f\"O'Tooley: {percent_OTooley_votes}% {total_OTooley_Votes}\", file=f)\n",
    "    \n",
    "    \n"
   ]
  },
  {
   "cell_type": "code",
   "execution_count": null,
   "metadata": {},
   "outputs": [],
   "source": [
    "\n"
   ]
  },
  {
   "cell_type": "code",
   "execution_count": null,
   "metadata": {},
   "outputs": [],
   "source": []
  },
  {
   "cell_type": "code",
   "execution_count": null,
   "metadata": {},
   "outputs": [],
   "source": []
  }
 ],
 "metadata": {
  "kernelspec": {
   "display_name": "Python 3",
   "language": "python",
   "name": "python3"
  },
  "language_info": {
   "codemirror_mode": {
    "name": "ipython",
    "version": 3
   },
   "file_extension": ".py",
   "mimetype": "text/x-python",
   "name": "python",
   "nbconvert_exporter": "python",
   "pygments_lexer": "ipython3",
   "version": "3.7.3"
  }
 },
 "nbformat": 4,
 "nbformat_minor": 2
}
