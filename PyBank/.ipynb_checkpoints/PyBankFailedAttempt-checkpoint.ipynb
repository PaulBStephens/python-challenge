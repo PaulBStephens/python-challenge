{
 "cells": [
  {
   "cell_type": "code",
   "execution_count": 28,
   "metadata": {},
   "outputs": [
    {
     "name": "stdout",
     "output_type": "stream",
     "text": [
      "Financial Analysis\n",
      "-----------------------------------\n",
      "Total Months: 86\n",
      "The net total amount of 'Profit and Losses': $844,416,716\n",
      "86\n"
     ]
    }
   ],
   "source": [
    "\n",
    "import csv \n",
    "\n",
    "total_months = 0\n",
    "\n",
    "# Lists to store data\n",
    "Date = []\n",
    "PL = []\n",
    "PL_change = []\n",
    "\n",
    "with open(\"budget_data.csv\") as csvfile:\n",
    "    read_csv = csv.reader(csvfile, delimiter=\",\")\n",
    "        \n",
    "    if csv.Sniffer().has_header:\n",
    "        next(read_csv)\n",
    "    for row in read_csv:\n",
    "        total_months += 1\n",
    "        netPandL += float(row[1])\n",
    "        Date.append(row[0])\n",
    "        PL.append(row[1])\n",
    "        \n",
    "   \n",
    "    print(\"Financial Analysis\")\n",
    "    print(\"-----------------------------------\")\n",
    "    print(f\"Total Months: {total_months}\")\n",
    "    currency_netPandL = '${:,.0f}'.format(netPandL)\n",
    "    print(f\"The net total amount of 'Profit and Losses': {currency_netPandL}\")\n",
    "    \n",
    "\n",
    "\n",
    "    # alternately, \n",
    "#     print(\"Total Months:\", len(Date))\n",
    "#     print(\"Total Revenue: $\", sum(netPandL))\n",
    "    #in this loop I did total of difference between all row of column \"PL\" and found total revnue change. Also found out max revenue change and min revenue change. \n",
    "    \n",
    "#     for i in range(1,len(PL)):\n",
    "#         PL_change.append(float(PL[i] - PL[i-1]))   \n",
    "#         avg_rev_change = sum(PL_change)/len(PL_change)\n",
    "\n",
    "#         max_rev_change = max(PL_change)\n",
    "\n",
    "#         min_rev_change = min(PL_change)\n",
    "\n",
    "#         max_rev_change_date = str(date[PL_change.index(max(PL_change))])\n",
    "#         min_rev_change_date = str(date[PL_change.index(min(PL_change))])\n",
    "\n",
    "#     print(\"Avereage Revenue Change: $\", round(avg_rev_change))\n",
    "#     print(\"Greatest Increase in Revenue:\", max_rev_change_date,\"($\", max_rev_change,\")\")\n",
    "#     print(\"Greatest Decrease in Revenue:\", min_rev_change_date,\"($\", min_rev_change,\")\")\n",
    "\n"
   ]
  },
  {
   "cell_type": "code",
   "execution_count": null,
   "metadata": {},
   "outputs": [],
   "source": []
  }
 ],
 "metadata": {
  "kernelspec": {
   "display_name": "Python 3",
   "language": "python",
   "name": "python3"
  },
  "language_info": {
   "codemirror_mode": {
    "name": "ipython",
    "version": 3
   },
   "file_extension": ".py",
   "mimetype": "text/x-python",
   "name": "python",
   "nbconvert_exporter": "python",
   "pygments_lexer": "ipython3",
   "version": "3.7.3"
  }
 },
 "nbformat": 4,
 "nbformat_minor": 2
}
