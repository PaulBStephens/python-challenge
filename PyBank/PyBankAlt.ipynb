{
 "cells": [
  {
   "cell_type": "code",
   "execution_count": 30,
   "metadata": {},
   "outputs": [
    {
     "name": "stdout",
     "output_type": "stream",
     "text": [
      "Financial Analysis\n",
      "-----------------------------------\n",
      "Total Months: 86\n",
      "Total Revenue: 38382578\n",
      "Avereage Revenue Change:  -2315\n",
      "Greatest Increase in Revenue to the Next Month: Jan-2012 ($ 1926159.0 )\n",
      "Greatest Decrease in Revenue to the Next Month: Aug-2013 ($ -2196167.0 )\n"
     ]
    }
   ],
   "source": [
    "# Create dependencies\n",
    "import csv \n",
    "\n",
    "# file to load\n",
    "file_to_load = \"budget_data.csv\"\n",
    "\n",
    "# Read the csv and convert info into lists; the first and second columns are data given, the third to store data calculated from the second column \n",
    "with open(file_to_load) as revenue_data:\n",
    "    reader = csv.reader(revenue_data)\n",
    "    \n",
    "    # I used the 'next' function to skip first title row in csv file\n",
    "    next(reader) \n",
    "    date = []\n",
    "    revenue = []\n",
    "    rev_change = []    \n",
    "    \n",
    "    # in this loop I did sum of column 2 (index 1) which is revenue in csv file and counted total months which is column 1 (index 0) \n",
    "    # also needed to change the revenue data from string to float\n",
    "    for row in reader:\n",
    "        revenue.append(float(row[1]))\n",
    "        date.append(row[0])\n",
    "\n",
    "        # printing info\n",
    "    print(\"Financial Analysis\")\n",
    "    print(\"-----------------------------------\")\n",
    "    print(\"Total Months:\", len(date))\n",
    "    sum_of_revenue = '{0:.0f}'.format(sum(revenue))\n",
    "    print(f\"Total Revenue: {sum_of_revenue}\")\n",
    "\n",
    "    #in this loop I did total of difference between all row of column \"Revenue\" and found total revnue change. Also found out max revenue change and min revenue change. \n",
    "    for i in range(1,len(revenue)):\n",
    "        rev_change.append(revenue[i] - revenue[i-1])   \n",
    "        avg_rev_change = sum(rev_change)/len(rev_change)\n",
    "\n",
    "        max_rev_change = max(rev_change)\n",
    "\n",
    "        min_rev_change = min(rev_change)\n",
    "\n",
    "        max_rev_change_date = str(date[rev_change.index(max(rev_change))])\n",
    "        min_rev_change_date = str(date[rev_change.index(min(rev_change))])\n",
    "\n",
    "    \n",
    "    print(\"Avereage Revenue Change: \", round(avg_rev_change))\n",
    "    print(\"Greatest Increase in Revenue to the Next Month:\", max_rev_change_date,\"($\", max_rev_change,\")\")\n",
    "    print(\"Greatest Decrease in Revenue to the Next Month:\", min_rev_change_date,\"($\", min_rev_change,\")\")\n",
    "\n",
    "    \n",
    "#   now need to export the same info I printed to a text file\n",
    "with open(\"output23.txt\", \"a\") as f:\n",
    "    print(\"Financial Analysis\", file=f)\n",
    "    print(\"-----------------------------------\", file=f)\n",
    "    print(\"Total Months:\", len(date), file=f)\n",
    "    print(\"Total Revenue: $\", sum(revenue), file=f)    \n",
    "    print(\"Avereage Revenue Change: \", round(avg_rev_change), file=f)\n",
    "    print(\"Greatest Increase in Revenue to the Next Month:\", max_rev_change_date,\"($\", max_rev_change,\")\", file=f)\n",
    "    print(\"Greatest Decrease in Revenue to the Next Month:\", min_rev_change_date,\"($\", min_rev_change,\")\", file=f)\n",
    "    \n"
   ]
  },
  {
   "cell_type": "code",
   "execution_count": null,
   "metadata": {},
   "outputs": [],
   "source": []
  }
 ],
 "metadata": {
  "kernelspec": {
   "display_name": "Python 3",
   "language": "python",
   "name": "python3"
  },
  "language_info": {
   "codemirror_mode": {
    "name": "ipython",
    "version": 3
   },
   "file_extension": ".py",
   "mimetype": "text/x-python",
   "name": "python",
   "nbconvert_exporter": "python",
   "pygments_lexer": "ipython3",
   "version": "3.7.3"
  }
 },
 "nbformat": 4,
 "nbformat_minor": 2
}
